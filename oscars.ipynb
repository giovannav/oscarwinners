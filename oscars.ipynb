{
 "cells": [
  {
   "cell_type": "code",
   "execution_count": 2,
   "metadata": {},
   "outputs": [
    {
     "name": "stdout",
     "output_type": "stream",
     "text": [
      "Requirement already satisfied: CurrencyConverter in c:\\users\\giova\\anaconda3\\lib\\site-packages (0.17.27)Note: you may need to restart the kernel to use updated packages.\n",
      "\n"
     ]
    }
   ],
   "source": [
    "pip install CurrencyConverter\n"
   ]
  },
  {
   "cell_type": "code",
   "execution_count": null,
   "metadata": {},
   "outputs": [],
   "source": [
    "'₤375,000 [ 2 ]'},\n",
    "'£527,530 [ 1 ]\n",
    "'£527,530 [ 1 ]'\n",
    "$8–8.5 million [ 2 ] [ 3 ]\n",
    "£9.8 million ($15 million)\n",
    "\n",
    "\n",
    "Any non-USD amount should be converted to USD\n",
    "ii. Any NaN should be converted to 0\n",
    "iii. Any budget that is a range (ie: $10,000,000 - $20,000,000), should be\n",
    "removed or $0\n"
   ]
  },
  {
   "cell_type": "code",
   "execution_count": 1,
   "metadata": {},
   "outputs": [],
   "source": [
    "import requests\n",
    "from pydantic import BaseModel, Field\n",
    "from typing import Optional\n",
    "import json\n",
    "from currency_converter import CurrencyConverter\n",
    "import pandas as pd"
   ]
  },
  {
   "cell_type": "code",
   "execution_count": 292,
   "metadata": {},
   "outputs": [],
   "source": [
    "# def pounds_to_dollars(pounds: int):\n",
    "#     c = CurrencyConverter()\n",
    "#     conv = c.convert(pounds, 'GBP', 'USD')\n",
    "    \n",
    "#     return int(conv)"
   ]
  },
  {
   "cell_type": "code",
   "execution_count": 383,
   "metadata": {},
   "outputs": [],
   "source": [
    "def filter_oscar_winners(result: dict) -> list:\n",
    "    winners = []\n",
    "    for data in result['results']:\n",
    "        year = data['year']\n",
    "        for film in data['films']:\n",
    "            if film['Winner']:\n",
    "                film['Year'] = year\n",
    "                winners.append(film)\n",
    "                break\n",
    "    \n",
    "    return winners"
   ]
  },
  {
   "cell_type": "code",
   "execution_count": 384,
   "metadata": {},
   "outputs": [],
   "source": [
    "def retrieve_data(endpoint: str = 'http://oscars.yipitdata.com/') -> list:\n",
    "    result = requests.get(f'{endpoint}').json()\n",
    "    \n",
    "    filtered_data = filter_oscar_winners(result)\n",
    "    \n",
    "    return filtered_data"
   ]
  },
  {
   "cell_type": "code",
   "execution_count": 353,
   "metadata": {},
   "outputs": [],
   "source": [
    "# r = requests.get('http://oscars.yipitdata.com/')"
   ]
  },
  {
   "cell_type": "code",
   "execution_count": 360,
   "metadata": {},
   "outputs": [],
   "source": [
    "# result = r.json()"
   ]
  },
  {
   "cell_type": "code",
   "execution_count": 385,
   "metadata": {},
   "outputs": [],
   "source": [
    "# a = retrieve_data()"
   ]
  },
  {
   "cell_type": "code",
   "execution_count": 179,
   "metadata": {},
   "outputs": [],
   "source": [
    "# for data in result['results']:\n",
    "#     #print(data)\n",
    "#     year = data['year']\n",
    "#     for film in data['films']:\n",
    "#         if film['Winner']:\n",
    "#             film['Year'] = year\n",
    "#             winners.append(film)\n",
    "#             break"
   ]
  },
  {
   "cell_type": "code",
   "execution_count": 181,
   "metadata": {},
   "outputs": [],
   "source": [
    "def get_budget_from_api(detail_url: str):\n",
    "    try:\n",
    "        response = requests.get(f'{detail_url}')\n",
    "        if 'Budget' in response.json(): \n",
    "            budget = response.json()['Budget']\n",
    "        else: \n",
    "            budget = '0'\n",
    "    except: \n",
    "        budget = '0'\n",
    "    \n",
    "    return budget"
   ]
  },
  {
   "cell_type": "code",
   "execution_count": 320,
   "metadata": {},
   "outputs": [],
   "source": [
    "def to_million(cleaned: str):\n",
    "    return int(float(cleaned) * 1000000)"
   ]
  },
  {
   "cell_type": "code",
   "execution_count": 390,
   "metadata": {},
   "outputs": [],
   "source": [
    "def process_budget_data(film: Film):\n",
    "    \n",
    "    if '–' in film.Budget or '-' in film.Budget:\n",
    "        film.OriginalBudget, film.USDBudget = 0, 0\n",
    "        \n",
    "    elif film.Budget.startswith(\"US$ \"):\n",
    "        cleaned = film.Budget.split(' ')[1]\n",
    "        if 'million' in film.Budget:\n",
    "            film.OriginalBudget, film.USDBudget = to_million(cleaned), to_million(cleaned)\n",
    "        else: film.OriginalBudget, film.USDBudget = int(cleaned), int(cleaned)\n",
    "        \n",
    "    elif film.Budget.startswith(\"US$\"):\n",
    "        cleaned = film.Budget.split(' ')[0].replace(\"US$\", \"\")\n",
    "        if 'million' in film.Budget:\n",
    "            film.OriginalBudget, film.USDBudget = to_million(cleaned), to_million(cleaned)\n",
    "        else: film.OriginalBudget, film.USDBudget = int(cleaned), int(cleaned)\n",
    "        \n",
    "    elif film.Budget.startswith(\"$\"):\n",
    "        cleaned = film.Budget.split(' ')[0].replace(\"$\", \"\")\n",
    "        if 'million' in film.Budget:\n",
    "            film.OriginalBudget, film.USDBudget = to_million(cleaned), to_million(cleaned)\n",
    "        else: \n",
    "            film.OriginalBudget, film.USDBudget = int(cleaned), int(cleaned)\n",
    "            \n",
    "    elif film.Budget.startswith(\"£\"):\n",
    "        cleaned = film.Budget.split(' ')[0].replace(\"£\", \"\")\n",
    "        if 'million' in film.Budget:\n",
    "            film.OriginalBudget = to_million(cleaned)\n",
    "            film.USDBudget = pounds_to_dollars(to_million(cleaned))\n",
    "        else: \n",
    "            film.OriginalBudget = int(cleaned)\n",
    "            film.USDBudget = pounds_to_dollars(int(cleaned))\n",
    "            \n",
    "    else: film.OriginalBudget, film.USDBudget = 0, 0"
   ]
  },
  {
   "cell_type": "code",
   "execution_count": 391,
   "metadata": {},
   "outputs": [],
   "source": [
    "class Film(BaseModel):\n",
    "    DetailUrl: str = Field(alias='Detail URL')\n",
    "    Film: str\n",
    "    Producer: str = Field(alias='Producer(s)')\n",
    "    ProductionCompany: str = Field(alias='Production Company(s)')\n",
    "    WikiURL: str = Field(alias='Wiki URL')\n",
    "    Winner: bool\n",
    "    Year: str\n",
    "    Budget: Optional[str] = ''\n",
    "    OriginalBudget: Optional[int] = 0\n",
    "    USDBudget: Optional[int] = 0\n",
    "    \n",
    "    def set_budget(self):\n",
    "        self.Budget = get_budget_from_api(self.DetailUrl)\n",
    "        if '\\xa0' in self.Budget:\n",
    "            self.Budget = self.Budget.replace('\\xa0', ' ')\n",
    "        elif ',' in self.Budget:\n",
    "            self.Budget = self.Budget.replace(',', '')\n",
    "        \n",
    "    def clean_budget(self):\n",
    "        process_budget_data(self)\n",
    "            \n",
    "    def clean_year(self):\n",
    "        year = self.Year.strip().split(\" \")[0]\n",
    "        self.Year = year\n",
    "        \n",
    "    def __init__(self, **data):\n",
    "        super().__init__(**data)\n",
    "        self.set_budget()\n",
    "        self.clean_budget()\n",
    "        self.clean_year()"
   ]
  },
  {
   "cell_type": "code",
   "execution_count": 392,
   "metadata": {},
   "outputs": [],
   "source": []
  },
  {
   "cell_type": "code",
   "execution_count": null,
   "metadata": {},
   "outputs": [],
   "source": [
    "def to_csv(winners: list):\n",
    "    out = []\n",
    "    for winner in winners:\n",
    "        obj = Film(**winner)\n",
    "        obj = obj.model_dump_json()\n",
    "        input_dict = json.loads(obj)\n",
    "        out.append(input_dict)\n",
    "    \n",
    "    dfItem = pd.DataFrame.from_records(out)\n",
    "    df = dfItem[['Film', 'Year', 'Winner', 'OriginalBudget', 'USDBudget']]\n",
    "    df.to_csv('test.csv', index=False, encoding='utf-8')"
   ]
  },
  {
   "cell_type": "code",
   "execution_count": 393,
   "metadata": {},
   "outputs": [],
   "source": []
  },
  {
   "cell_type": "code",
   "execution_count": null,
   "metadata": {},
   "outputs": [],
   "source": [
    "#film, year, wikipedia_url, Oscar winner, original budget, and budget converted to USD"
   ]
  },
  {
   "cell_type": "code",
   "execution_count": 394,
   "metadata": {},
   "outputs": [],
   "source": []
  },
  {
   "cell_type": "code",
   "execution_count": 395,
   "metadata": {},
   "outputs": [],
   "source": []
  },
  {
   "cell_type": "code",
   "execution_count": 396,
   "metadata": {},
   "outputs": [],
   "source": []
  },
  {
   "cell_type": "code",
   "execution_count": 398,
   "metadata": {},
   "outputs": [
    {
     "data": {
      "text/html": [
       "<div>\n",
       "<style scoped>\n",
       "    .dataframe tbody tr th:only-of-type {\n",
       "        vertical-align: middle;\n",
       "    }\n",
       "\n",
       "    .dataframe tbody tr th {\n",
       "        vertical-align: top;\n",
       "    }\n",
       "\n",
       "    .dataframe thead th {\n",
       "        text-align: right;\n",
       "    }\n",
       "</style>\n",
       "<table border=\"1\" class=\"dataframe\">\n",
       "  <thead>\n",
       "    <tr style=\"text-align: right;\">\n",
       "      <th></th>\n",
       "      <th>Film</th>\n",
       "      <th>Year</th>\n",
       "      <th>Winner</th>\n",
       "      <th>OriginalBudget</th>\n",
       "      <th>USDBudget</th>\n",
       "    </tr>\n",
       "  </thead>\n",
       "  <tbody>\n",
       "    <tr>\n",
       "      <th>0</th>\n",
       "      <td>Wings</td>\n",
       "      <td>1927</td>\n",
       "      <td>True</td>\n",
       "      <td>2000000</td>\n",
       "      <td>2000000</td>\n",
       "    </tr>\n",
       "    <tr>\n",
       "      <th>1</th>\n",
       "      <td>The Broadway Melody</td>\n",
       "      <td>1928</td>\n",
       "      <td>True</td>\n",
       "      <td>0</td>\n",
       "      <td>0</td>\n",
       "    </tr>\n",
       "    <tr>\n",
       "      <th>2</th>\n",
       "      <td>All Quiet on the Western Front</td>\n",
       "      <td>1929</td>\n",
       "      <td>True</td>\n",
       "      <td>1200000</td>\n",
       "      <td>1200000</td>\n",
       "    </tr>\n",
       "    <tr>\n",
       "      <th>3</th>\n",
       "      <td>Cimarron</td>\n",
       "      <td>1930</td>\n",
       "      <td>True</td>\n",
       "      <td>1433000</td>\n",
       "      <td>1433000</td>\n",
       "    </tr>\n",
       "    <tr>\n",
       "      <th>4</th>\n",
       "      <td>Grand Hotel</td>\n",
       "      <td>1931</td>\n",
       "      <td>True</td>\n",
       "      <td>750000</td>\n",
       "      <td>750000</td>\n",
       "    </tr>\n",
       "    <tr>\n",
       "      <th>...</th>\n",
       "      <td>...</td>\n",
       "      <td>...</td>\n",
       "      <td>...</td>\n",
       "      <td>...</td>\n",
       "      <td>...</td>\n",
       "    </tr>\n",
       "    <tr>\n",
       "      <th>82</th>\n",
       "      <td>The King's Speech</td>\n",
       "      <td>2010</td>\n",
       "      <td>True</td>\n",
       "      <td>15000000</td>\n",
       "      <td>15000000</td>\n",
       "    </tr>\n",
       "    <tr>\n",
       "      <th>83</th>\n",
       "      <td>The Artist</td>\n",
       "      <td>2011</td>\n",
       "      <td>True</td>\n",
       "      <td>15000000</td>\n",
       "      <td>15000000</td>\n",
       "    </tr>\n",
       "    <tr>\n",
       "      <th>84</th>\n",
       "      <td>Argo</td>\n",
       "      <td>2012</td>\n",
       "      <td>True</td>\n",
       "      <td>44500000</td>\n",
       "      <td>44500000</td>\n",
       "    </tr>\n",
       "    <tr>\n",
       "      <th>85</th>\n",
       "      <td>12 Years a Slave</td>\n",
       "      <td>2013</td>\n",
       "      <td>True</td>\n",
       "      <td>22000000</td>\n",
       "      <td>22000000</td>\n",
       "    </tr>\n",
       "    <tr>\n",
       "      <th>86</th>\n",
       "      <td>Birdman or (The Unexpected Virtue of Ignorance)</td>\n",
       "      <td>2014</td>\n",
       "      <td>True</td>\n",
       "      <td>0</td>\n",
       "      <td>0</td>\n",
       "    </tr>\n",
       "  </tbody>\n",
       "</table>\n",
       "<p>87 rows × 5 columns</p>\n",
       "</div>"
      ],
      "text/plain": [
       "                                               Film  Year  Winner  \\\n",
       "0                                             Wings  1927    True   \n",
       "1                               The Broadway Melody  1928    True   \n",
       "2                    All Quiet on the Western Front  1929    True   \n",
       "3                                          Cimarron  1930    True   \n",
       "4                                       Grand Hotel  1931    True   \n",
       "..                                              ...   ...     ...   \n",
       "82                                The King's Speech  2010    True   \n",
       "83                                       The Artist  2011    True   \n",
       "84                                             Argo  2012    True   \n",
       "85                                 12 Years a Slave  2013    True   \n",
       "86  Birdman or (The Unexpected Virtue of Ignorance)  2014    True   \n",
       "\n",
       "    OriginalBudget  USDBudget  \n",
       "0          2000000    2000000  \n",
       "1                0          0  \n",
       "2          1200000    1200000  \n",
       "3          1433000    1433000  \n",
       "4           750000     750000  \n",
       "..             ...        ...  \n",
       "82        15000000   15000000  \n",
       "83        15000000   15000000  \n",
       "84        44500000   44500000  \n",
       "85        22000000   22000000  \n",
       "86               0          0  \n",
       "\n",
       "[87 rows x 5 columns]"
      ]
     },
     "execution_count": 398,
     "metadata": {},
     "output_type": "execute_result"
    }
   ],
   "source": [
    "df"
   ]
  },
  {
   "cell_type": "code",
   "execution_count": 356,
   "metadata": {},
   "outputs": [],
   "source": []
  },
  {
   "cell_type": "code",
   "execution_count": null,
   "metadata": {},
   "outputs": [],
   "source": [
    "# if '–' in self.Budget or '-' in self.Budget:\n",
    "#             self.OriginalBudget, self.USDBudget = 0, 0\n",
    "#         elif self.Budget.startswith(\"US$ \"):\n",
    "#             cleaned = self.Budget.split(' ')[1]\n",
    "#             if 'million' in self.Budget:\n",
    "#                 self.OriginalBudget, self.USDBudget = to_million(cleaned), to_million(cleaned)\n",
    "#             else: self.OriginalBudget, self.USDBudget = int(cleaned), int(cleaned)\n",
    "#         elif self.Budget.startswith(\"US$\"):\n",
    "#             cleaned = self.Budget.split(' ')[0].replace(\"US$\", \"\")\n",
    "#             if 'million' in self.Budget:\n",
    "#                 self.OriginalBudget, self.USDBudget = to_million(cleaned), to_million(cleaned)\n",
    "#             else: self.OriginalBudget, self.USDBudget = int(cleaned), int(cleaned)\n",
    "#         elif self.Budget.startswith(\"$\"):\n",
    "#             cleaned = self.Budget.split(' ')[0].replace(\"$\", \"\")\n",
    "#             if 'million' in self.Budget:\n",
    "#                 self.OriginalBudget, self.USDBudget = to_million(cleaned), to_million(cleaned)\n",
    "#             else: \n",
    "#                 self.OriginalBudget, self.USDBudget = int(cleaned), int(cleaned)\n",
    "#         elif self.Budget.startswith(\"£\"):\n",
    "#             cleaned = self.Budget.split(' ')[0].replace(\"£\", \"\")\n",
    "#             if 'million' in self.Budget:\n",
    "#                 self.OriginalBudget = to_million(cleaned)\n",
    "#                 self.USDBudget = pounds_to_dollars(to_million(cleaned))\n",
    "#             else: \n",
    "#                 self.OriginalBudget = int(cleaned)\n",
    "#                 self.USDBudget = pounds_to_dollars(int(cleaned))"
   ]
  }
 ],
 "metadata": {
  "kernelspec": {
   "display_name": "base",
   "language": "python",
   "name": "python3"
  },
  "language_info": {
   "codemirror_mode": {
    "name": "ipython",
    "version": 3
   },
   "file_extension": ".py",
   "mimetype": "text/x-python",
   "name": "python",
   "nbconvert_exporter": "python",
   "pygments_lexer": "ipython3",
   "version": "3.9.13"
  }
 },
 "nbformat": 4,
 "nbformat_minor": 2
}
